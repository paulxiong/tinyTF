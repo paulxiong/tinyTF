{
  "nbformat": 4,
  "nbformat_minor": 0,
  "metadata": {
    "colab": {
      "provenance": [],
      "gpuType": "T4",
      "authorship_tag": "ABX9TyPWiqGtq9ag4atq9uf78NoA",
      "include_colab_link": true
    },
    "kernelspec": {
      "name": "python3",
      "display_name": "Python 3"
    },
    "language_info": {
      "name": "python"
    },
    "accelerator": "GPU"
  },
  "cells": [
    {
      "cell_type": "markdown",
      "metadata": {
        "id": "view-in-github",
        "colab_type": "text"
      },
      "source": [
        "<a href=\"https://colab.research.google.com/github/paulxiong/tinyTF/blob/main/MLM_example.ipynb\" target=\"_parent\"><img src=\"https://colab.research.google.com/assets/colab-badge.svg\" alt=\"Open In Colab\"/></a>"
      ]
    },
    {
      "cell_type": "markdown",
      "source": [
        "manipulate a simple dataset, use it to train a MLM, don't use pre-trained mode, I just want to learn how it will be coded.\n",
        "*italicized text*"
      ],
      "metadata": {
        "id": "7QCC-2tyh9xC"
      }
    },
    {
      "cell_type": "code",
      "execution_count": 1,
      "metadata": {
        "id": "Y15HuAs_bSF1"
      },
      "outputs": [],
      "source": [
        "import numpy as np\n",
        "from transformers import BertTokenizer, BertForMaskedLM\n",
        "import torch\n",
        "from torch.utils.data import Dataset, DataLoader\n"
      ]
    },
    {
      "cell_type": "code",
      "source": [
        "sentences = [\n",
        "    \"I love to eat apples.\",\n",
        "    \"She went to the park.\",\n",
        "    \"The cat is sleeping on the mat.\",\n",
        "    \"He plays the guitar.\",\n",
        "    \"The book is on the table.\"\n",
        "]\n"
      ],
      "metadata": {
        "id": "1rttSxAEbT-H"
      },
      "execution_count": 2,
      "outputs": []
    },
    {
      "cell_type": "code",
      "source": [
        "tokenizer = BertTokenizer.from_pretrained('bert-base-uncased')\n",
        "tokenized_sentences = [tokenizer.tokenize(sentence) for sentence in sentences]\n"
      ],
      "metadata": {
        "id": "AtWtDgL4bYdB"
      },
      "execution_count": 3,
      "outputs": []
    },
    {
      "cell_type": "code",
      "source": [
        "input_ids = [tokenizer.convert_tokens_to_ids(tokens) for tokens in tokenized_sentences]\n",
        "\n",
        "# Add special tokens and padding\n",
        "max_length = max(len(ids) for ids in input_ids)\n",
        "input_ids = [ids + [tokenizer.pad_token_id] * (max_length - len(ids)) for ids in input_ids]\n",
        "attention_masks = [[1] * len(ids) + [0] * (max_length - len(ids)) for ids in input_ids]\n",
        "token_type_ids = [[0] * max_length for _ in input_ids]\n",
        "\n",
        "# Convert the lists to PyTorch tensors\n",
        "input_ids = torch.tensor(input_ids)\n",
        "attention_masks = torch.tensor(attention_masks)\n",
        "token_type_ids = torch.tensor(token_type_ids)\n"
      ],
      "metadata": {
        "id": "Simgpy15bdFQ"
      },
      "execution_count": 4,
      "outputs": []
    },
    {
      "cell_type": "code",
      "source": [
        "class MyDataset(Dataset):\n",
        "    def __init__(self, input_ids, attention_masks, token_type_ids):\n",
        "        self.input_ids = input_ids\n",
        "        self.attention_masks = attention_masks\n",
        "        self.token_type_ids = token_type_ids\n",
        "\n",
        "    def __getitem__(self, index):\n",
        "        return {\n",
        "            'input_ids': self.input_ids[index],\n",
        "            'attention_mask': self.attention_masks[index],\n",
        "            'token_type_ids': self.token_type_ids[index]\n",
        "        }\n",
        "\n",
        "    def __len__(self):\n",
        "        return len(self.input_ids)\n"
      ],
      "metadata": {
        "id": "6Mw3RTKcbjBc"
      },
      "execution_count": 5,
      "outputs": []
    },
    {
      "cell_type": "code",
      "source": [
        "input_ids = [tokenizer.convert_tokens_to_ids(tokens) for tokens in tokenized_sentences]\n",
        "\n",
        "# Add special tokens and padding\n",
        "max_length = max(len(ids) for ids in input_ids)\n",
        "input_ids = [ids + [tokenizer.pad_token_id] * (max_length - len(ids)) for ids in input_ids]\n",
        "attention_masks = [[1] * len(ids) + [0] * (max_length - len(ids)) for ids in input_ids]\n",
        "token_type_ids = [[0] * max_length for _ in input_ids]\n",
        "\n",
        "# Convert the lists to PyTorch tensors\n",
        "input_ids = torch.tensor(input_ids)\n",
        "attention_masks = torch.tensor(attention_masks)\n",
        "token_type_ids = torch.tensor(token_type_ids)\n"
      ],
      "metadata": {
        "id": "EN65BsTUdtxF"
      },
      "execution_count": 6,
      "outputs": []
    },
    {
      "cell_type": "code",
      "source": [
        "dataset = MyDataset(input_ids, attention_masks, token_type_ids)\n",
        "dataloader = DataLoader(dataset, batch_size=2, shuffle=True)\n"
      ],
      "metadata": {
        "id": "Lo5QKV53bn9J"
      },
      "execution_count": 7,
      "outputs": []
    },
    {
      "cell_type": "markdown",
      "source": [],
      "metadata": {
        "id": "UbhkBtPth1wO"
      }
    },
    {
      "cell_type": "code",
      "source": [
        "device = torch.device(\"cuda\" if torch.cuda.is_available() else \"cpu\")\n",
        "model = BertForMaskedLM.from_pretrained('bert-base-uncased')\n",
        "# Move the model to the device\n",
        "model.to(device)\n",
        "\n",
        "# Define the optimizer and loss function\n",
        "optimizer = torch.optim.AdamW(model.parameters(), lr=1e-5)\n",
        "criterion = torch.nn.CrossEntropyLoss()\n",
        "# Train the model\n",
        "num_epochs = 5\n",
        "for epoch in range(num_epochs):\n",
        "    for batch in dataloader:\n",
        "        # Move batch to device (CPU or GPU)\n",
        "        batch = {k: v.to(device) for k, v in batch.items()}\n",
        "\n",
        "        # Clear gradients\n",
        "        optimizer.zero_grad()\n",
        "\n",
        "        # Forward pass\n",
        "        outputs = model(\n",
        "            input_ids=batch['input_ids'],\n",
        "            attention_mask=batch['attention_mask'],\n",
        "            token_type_ids=batch['token_type_ids']\n",
        "        )\n",
        "        predictions = outputs.logits\n",
        "\n",
        "        # Flatten the predictions and labels\n",
        "        predictions = predictions.view(-1, tokenizer.vocab_size)\n",
        "        labels = batch['input_ids'].view(-1)\n",
        "\n",
        "        # Move the labels to the device\n",
        "        labels = labels.to(device)\n",
        "\n",
        "        # Calculate the loss\n",
        "        loss = criterion(predictions, labels)\n",
        "\n",
        "        # Backward pass and optimization\n",
        "        loss.backward()\n",
        "        optimizer.step()\n"
      ],
      "metadata": {
        "colab": {
          "base_uri": "https://localhost:8080/"
        },
        "id": "kZZ-rS4dgW6z",
        "outputId": "b4fdb1b4-ecef-4cbc-a890-909f7563c2f3"
      },
      "execution_count": 8,
      "outputs": [
        {
          "output_type": "stream",
          "name": "stderr",
          "text": [
            "Some weights of the model checkpoint at bert-base-uncased were not used when initializing BertForMaskedLM: ['cls.seq_relationship.weight', 'cls.seq_relationship.bias']\n",
            "- This IS expected if you are initializing BertForMaskedLM from the checkpoint of a model trained on another task or with another architecture (e.g. initializing a BertForSequenceClassification model from a BertForPreTraining model).\n",
            "- This IS NOT expected if you are initializing BertForMaskedLM from the checkpoint of a model that you expect to be exactly identical (initializing a BertForSequenceClassification model from a BertForSequenceClassification model).\n"
          ]
        }
      ]
    },
    {
      "cell_type": "code",
      "source": [
        "# Set the model to evaluation mode\n",
        "model.eval()\n",
        "\n",
        "# Example input sentence\n",
        "input_sentence = \"I like to eat\"\n",
        "\n",
        "# Tokenize the input sentence\n",
        "input_tokens = tokenizer.tokenize(input_sentence)\n",
        "input_ids = tokenizer.convert_tokens_to_ids(input_tokens)\n",
        "input_ids = torch.tensor([input_ids]).to(device)\n",
        "\n",
        "# Generate predictions\n",
        "with torch.no_grad():\n",
        "    outputs = model(input_ids=input_ids)\n",
        "\n",
        "predictions = outputs.logits\n",
        "predicted_token_ids = torch.argmax(predictions, dim=-1).squeeze().tolist()\n",
        "\n",
        "# Convert predicted token IDs back to tokens\n",
        "predicted_tokens = tokenizer.convert_ids_to_tokens(predicted_token_ids)\n",
        "\n",
        "# Print the predicted tokens\n",
        "predicted_sentence = \" \".join(predicted_tokens)\n",
        "print(\"Input: \", input_sentence)\n",
        "print(\"Predicted: \", predicted_sentence)\n"
      ],
      "metadata": {
        "colab": {
          "base_uri": "https://localhost:8080/"
        },
        "id": "D2zYthc4lbj0",
        "outputId": "49b32ff2-7a1c-495c-8507-5540dbd53f67"
      },
      "execution_count": 16,
      "outputs": [
        {
          "output_type": "stream",
          "name": "stdout",
          "text": [
            "Input:  I book\n",
            "Predicted:  exposed ##ith\n"
          ]
        }
      ]
    },
    {
      "cell_type": "code",
      "source": [
        "#!pip install transformers"
      ],
      "metadata": {
        "id": "6kRMZx1ebzCq"
      },
      "execution_count": 10,
      "outputs": []
    }
  ]
}